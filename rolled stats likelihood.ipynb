{
 "cells": [
  {
   "cell_type": "code",
   "execution_count": 35,
   "id": "87b1d05c-c126-4a99-bc1b-9444b6eee953",
   "metadata": {},
   "outputs": [],
   "source": [
    "def likelihood(wanted):\n",
    "    \n",
    "    total = 0\n",
    "    want = 0\n",
    "    rolls = [1, 2, 3, 4, 5, 6]\n",
    "    stats = []\n",
    "    \n",
    "    for i in rolls:\n",
    "        \n",
    "        for j in rolls:\n",
    "            \n",
    "            for k in rolls:\n",
    "                \n",
    "                for l in rolls:\n",
    "                    stats.clear()\n",
    "                    stats.append(i)\n",
    "                    stats.append(j)\n",
    "                    stats.append(k)\n",
    "                    stats.append(l)\n",
    "                    total_sum = sum(stats)\n",
    "                    atr = total_sum - min(stats)\n",
    "                    if atr < wanted:\n",
    "                        total += 1\n",
    "                    else:\n",
    "                        total += 1\n",
    "                        want += 1\n",
    "    return f'Likelihood of getting {wanted} for one of Your stats is {want}/{total}, which is {want/total}'\n",
    "    "
   ]
  },
  {
   "cell_type": "code",
   "execution_count": 36,
   "id": "8c62e03d-6541-46b1-bcdc-b3cf45da49d7",
   "metadata": {},
   "outputs": [
    {
     "data": {
      "text/plain": [
       "'Likelihood of getting 10 for one of Your stats is 1069/1296, which is 0.8248456790123457'"
      ]
     },
     "execution_count": 36,
     "metadata": {},
     "output_type": "execute_result"
    }
   ],
   "source": [
    "likelihood(10)"
   ]
  },
  {
   "cell_type": "code",
   "execution_count": null,
   "id": "75c8538d-281b-4833-a66d-f2cd298f942c",
   "metadata": {},
   "outputs": [],
   "source": []
  }
 ],
 "metadata": {
  "kernelspec": {
   "display_name": "Python 3 (ipykernel)",
   "language": "python",
   "name": "python3"
  },
  "language_info": {
   "codemirror_mode": {
    "name": "ipython",
    "version": 3
   },
   "file_extension": ".py",
   "mimetype": "text/x-python",
   "name": "python",
   "nbconvert_exporter": "python",
   "pygments_lexer": "ipython3",
   "version": "3.9.12"
  }
 },
 "nbformat": 4,
 "nbformat_minor": 5
}
